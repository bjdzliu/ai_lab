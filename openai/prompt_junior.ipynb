{
  "nbformat": 4,
  "nbformat_minor": 0,
  "metadata": {
    "colab": {
      "provenance": [],
      "authorship_tag": "ABX9TyMjxqx6+NE1qJIz4efskuB/",
      "include_colab_link": true
    },
    "kernelspec": {
      "name": "python3",
      "display_name": "Python 3"
    },
    "language_info": {
      "name": "python"
    }
  },
  "cells": [
    {
      "cell_type": "markdown",
      "metadata": {
        "id": "view-in-github",
        "colab_type": "text"
      },
      "source": [
        "<a href=\"https://colab.research.google.com/github/bjdzliu/ai_lab/blob/main/openai/prompt_junior.ipynb\" target=\"_parent\"><img src=\"https://colab.research.google.com/assets/colab-badge.svg\" alt=\"Open In Colab\"/></a>"
      ]
    },
    {
      "cell_type": "code",
      "execution_count": 2,
      "metadata": {
        "id": "GqsEpRHZszFJ"
      },
      "outputs": [],
      "source": [
        "from google.colab import userdata\n",
        "apikey=userdata.get('OPENAI_API_KEY')"
      ]
    },
    {
      "cell_type": "code",
      "source": [
        "!pip3 install openai"
      ],
      "metadata": {
        "id": "LcM0lacts-Xf"
      },
      "execution_count": null,
      "outputs": []
    },
    {
      "cell_type": "code",
      "source": [
        "from openai import OpenAI"
      ],
      "metadata": {
        "id": "sC6dN72QtcQd"
      },
      "execution_count": 8,
      "outputs": []
    },
    {
      "cell_type": "code",
      "source": [
        "# 初始化 OpenAI 客户端\n",
        "# api_key=os.environ.get(\"CUSTOM_ENV_NAME\"),\n",
        "client = OpenAI(api_key=apikey)"
      ],
      "metadata": {
        "id": "FCWelCUos7OZ"
      },
      "execution_count": 10,
      "outputs": []
    },
    {
      "cell_type": "markdown",
      "source": [
        "使用openai的chat **api**"
      ],
      "metadata": {
        "id": "9HQHX_50J88f"
      }
    },
    {
      "cell_type": "code",
      "source": [
        "def get_completion(prompt,model=\"gpt-3.5-turbo\"):\n",
        "  massages=[{\"role\":\"user\",\"content\":prompt}]\n",
        "  response = client.chat.completions.create(\n",
        "      model=model,\n",
        "      messages=massages,\n",
        "      temperature=0,\n",
        "  )\n",
        "  return response.choices[0].message.content\n"
      ],
      "metadata": {
        "id": "C3K60QK_uZ4m"
      },
      "execution_count": 16,
      "outputs": []
    },
    {
      "cell_type": "code",
      "source": [
        "# 任务描述\n",
        "instruction = \"\"\"\n",
        "你的任务是识别用户对手机流量套餐产品的选择条件。\n",
        "每种流量套餐产品包含三个属性：名称，月费价格，月流量。\n",
        "根据用户输入，识别用户在上述三种属性上的倾向。\n",
        "\"\"\"\n",
        "\n",
        "# 用户输入\n",
        "input_text=\"\"\"\n",
        "办个100G的套餐\n",
        "\n",
        "\"\"\"\n",
        "\n",
        "# prompt模板。instruction 和 input_text 会被替代为上面的内容\n",
        "prompt=f\"\"\"\n",
        "{instruction}\n",
        "\n",
        "用户输入：\n",
        "{input_text}\n",
        "\n",
        "\"\"\"\n",
        "\n",
        "response=get_completion(prompt)\n",
        "print(response)\n"
      ],
      "metadata": {
        "id": "J7cqKhQOxbxa"
      },
      "execution_count": null,
      "outputs": []
    },
    {
      "cell_type": "code",
      "source": [
        "# 添加json输出格式\n",
        "output_format=\"\"\"\n",
        "以 JSON 格式输出\n",
        "\"\"\"\n",
        "\n",
        "# 稍微调整下咒语，加入输出格式\n",
        "prompt = f\"\"\"\n",
        "{instruction}\n",
        "\n",
        "{output_format}\n",
        "\n",
        "用户输入：\n",
        "{input_text}\n",
        "\n",
        "\"\"\"\n",
        "\n",
        "response =get_completion(prompt)\n",
        "print(response)"
      ],
      "metadata": {
        "id": "YtXCrJwJyxTZ"
      },
      "execution_count": null,
      "outputs": []
    },
    {
      "cell_type": "code",
      "source": [],
      "metadata": {
        "id": "TLMJSGbp1LKC"
      },
      "execution_count": null,
      "outputs": []
    }
  ]
}