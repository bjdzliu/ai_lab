{
  "nbformat": 4,
  "nbformat_minor": 0,
  "metadata": {
    "colab": {
      "provenance": [],
      "authorship_tag": "ABX9TyMESYbgcK2OKKDJ08H/b0sL",
      "include_colab_link": true
    },
    "kernelspec": {
      "name": "python3",
      "display_name": "Python 3"
    },
    "language_info": {
      "name": "python"
    }
  },
  "cells": [
    {
      "cell_type": "markdown",
      "metadata": {
        "id": "view-in-github",
        "colab_type": "text"
      },
      "source": [
        "<a href=\"https://colab.research.google.com/github/bjdzliu/ai_lab/blob/main/openai/text_sql.ipynb\" target=\"_parent\"><img src=\"https://colab.research.google.com/assets/colab-badge.svg\" alt=\"Open In Colab\"/></a>"
      ]
    },
    {
      "cell_type": "code",
      "execution_count": null,
      "metadata": {
        "id": "tm8ij3wABJjp"
      },
      "outputs": [],
      "source": [
        "from google.colab import userdata\n",
        "apikey=userdata.get('OPENAI_API_KEY')"
      ]
    },
    {
      "cell_type": "code",
      "source": [
        "!pip3 install openai"
      ],
      "metadata": {
        "id": "C9JgjdpzBhV-"
      },
      "execution_count": null,
      "outputs": []
    },
    {
      "cell_type": "code",
      "source": [
        "from openai import OpenAI"
      ],
      "metadata": {
        "id": "atcSRmtEBlvG"
      },
      "execution_count": null,
      "outputs": []
    },
    {
      "cell_type": "code",
      "source": [
        "question=\"\"\"\n",
        "请告诉我所有商品id的订单状态和支付时间\n",
        "\"\"\""
      ],
      "metadata": {
        "id": "sYop7hnmFBKD"
      },
      "execution_count": null,
      "outputs": []
    },
    {
      "cell_type": "code",
      "source": [
        "prompt=f\"\"\"\n",
        "### Generate a SQL query to answer the question\n",
        "{question}\n",
        "\n",
        "### Database  Scheam\n",
        "CREATE TABLE orders (\n",
        "    id INT PRIMARY KEY NOT NULL, -- 主键，不允许为空\n",
        "    customer_id INT NOT NULL, -- 客户ID，不允许为空\n",
        "    product_id STR NOT NULL, -- 产品ID，不允许为空\n",
        "    price DECIMAL(10,2) NOT NULL, -- 价格，不允许为空\n",
        "    status INT NOT NULL, -- 订单状态，整数类型，不允许为空。0代表待支付，1代表已支付，2代表已退款\n",
        "    create_time TIMESTAMP DEFAULT CURRENT_TIMESTAMP, -- 创建时间，默认为当前时间\n",
        "    pay_time TIMESTAMP -- 支付时间，可以为空\n",
        ");\n",
        "\"\"\""
      ],
      "metadata": {
        "id": "AijMo3TtCFGU"
      },
      "execution_count": null,
      "outputs": []
    },
    {
      "cell_type": "code",
      "source": [
        "messages_sql = [\n",
        "    {\"role\": \"system\", \"content\": \"you are senior dba\"},\n",
        "    {\"role\": \"user\", \"content\": prompt}\n",
        "]"
      ],
      "metadata": {
        "id": "lIaAljqJBryv"
      },
      "execution_count": null,
      "outputs": []
    },
    {
      "cell_type": "code",
      "source": [
        "client=OpenAI(api_key=apikey)\n",
        "model=model=\"gpt-3.5-turbo\""
      ],
      "metadata": {
        "id": "IYyzojO3FzZ7"
      },
      "execution_count": null,
      "outputs": []
    },
    {
      "cell_type": "code",
      "source": [
        "response = client.chat.completions.create(\n",
        "        model=model,\n",
        "        messages=messages,\n",
        "        temperature=0,                                  # 模型输出的随机性，0 表示随机性最小\n",
        "    )"
      ],
      "metadata": {
        "id": "NKBLz2SaEsK_"
      },
      "execution_count": null,
      "outputs": []
    },
    {
      "cell_type": "code",
      "source": [
        "print(response.choices[0].message.content   )"
      ],
      "metadata": {
        "id": "rdMgdKhIFyvW"
      },
      "execution_count": null,
      "outputs": []
    },
    {
      "cell_type": "code",
      "source": [
        "messages_chat = [\n",
        "    {\"role\": \"user\", \"content\": \"what's your name\"},\n",
        "]"
      ],
      "metadata": {
        "id": "-Nbh5icPG3ht"
      },
      "execution_count": null,
      "outputs": []
    },
    {
      "cell_type": "code",
      "source": [
        "response_chat = client.chat.completions.create(\n",
        "        model=model,\n",
        "        messages=messages_chat,\n",
        "        temperature=0,                                  # 模型输出的随机性，0 表示随机性最小\n",
        "    )"
      ],
      "metadata": {
        "id": "hGYB3Y6iHAXy"
      },
      "execution_count": null,
      "outputs": []
    },
    {
      "cell_type": "code",
      "source": [
        "print(response_chat.choices[0].message.content   )"
      ],
      "metadata": {
        "id": "tpKib5kiHDX3",
        "outputId": "f95c8363-68fb-44b1-c3d6-459762adcba9",
        "colab": {
          "base_uri": "https://localhost:8080/"
        }
      },
      "execution_count": null,
      "outputs": [
        {
          "output_type": "stream",
          "name": "stdout",
          "text": [
            "I am an AI language model developed by OpenAI, and I don't have a personal name. You can simply refer to me as OpenAI Assistant. How can I assist you today?\n"
          ]
        }
      ]
    }
  ]
}