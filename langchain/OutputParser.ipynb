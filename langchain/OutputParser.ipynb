{
  "nbformat": 4,
  "nbformat_minor": 0,
  "metadata": {
    "colab": {
      "provenance": [],
      "authorship_tag": "ABX9TyPcmwa44k6PujsFz3UqE99A",
      "include_colab_link": true
    },
    "kernelspec": {
      "name": "python3",
      "display_name": "Python 3"
    },
    "language_info": {
      "name": "python"
    }
  },
  "cells": [
    {
      "cell_type": "markdown",
      "metadata": {
        "id": "view-in-github",
        "colab_type": "text"
      },
      "source": [
        "<a href=\"https://colab.research.google.com/github/bjdzliu/ai_lab/blob/main/langchain/OutputParser.ipynb\" target=\"_parent\"><img src=\"https://colab.research.google.com/assets/colab-badge.svg\" alt=\"Open In Colab\"/></a>"
      ]
    },
    {
      "cell_type": "code",
      "source": [
        "!pip3 install --quiet langchain langchain-openai"
      ],
      "metadata": {
        "id": "6lRDMgLBg1z_"
      },
      "execution_count": null,
      "outputs": []
    },
    {
      "cell_type": "code",
      "source": [
        "!pip3 install cohere openai typing-extensions\n"
      ],
      "metadata": {
        "id": "s7OyeIMj2OFW"
      },
      "execution_count": null,
      "outputs": []
    },
    {
      "cell_type": "code",
      "source": [
        "from google.colab import userdata\n",
        "apikey=userdata.get('OPENAI_API_KEY')"
      ],
      "metadata": {
        "id": "yzyyVdqQhFYE"
      },
      "execution_count": 5,
      "outputs": []
    },
    {
      "cell_type": "code",
      "execution_count": 6,
      "metadata": {
        "id": "DdqvSvlN2sYL"
      },
      "outputs": [],
      "source": [
        "import langchain\n",
        "from langchain.prompts.chat import (\n",
        "    ChatPromptTemplate,\n",
        "    HumanMessagePromptTemplate,\n",
        "    SystemMessagePromptTemplate,\n",
        ")\n",
        "from langchain.schema import HumanMessage, SystemMessage\n",
        "from langchain_openai import ChatOpenAI\n",
        "from langchain.output_parsers import PydanticOutputParser\n",
        "\n",
        "\n",
        "temperature = 0\n",
        "llm = ChatOpenAI(model=\"gpt-4\",openai_api_key=apikey,temperature=temperature) # 默认是gpt-3.5-turbo\n"
      ]
    },
    {
      "cell_type": "code",
      "source": [
        "from langchain_core.pydantic_v1  import BaseModel, Field, validator\n",
        "from typing import List, Dict\n",
        "\n",
        "# 定义你的输出对象\n",
        "\"\"\"\n",
        "用class Date(BaseMode) 方式定义出来输出格式。\n",
        "langchain用这个格式去做prompt\n",
        "llm返回格式，格式的要求，在class Date(BaseMode) 做了定义\n",
        "\"\"\"\n",
        "class Date(BaseModel):\n",
        "  year: int=Field(description=\"Year\")\n",
        "  month: int=Field(description=\"Month\")\n",
        "  day: int=Field(description=\"Day\")\n",
        "  era: str=Field(description=\"BC or AD\")\n",
        "\n",
        "  @validator('month')\n",
        "  def valid_month(cls,field):\n",
        "    if field <= 0 or field >12:\n",
        "      raise ValueError(\"月份必须在1-12之间\")\n",
        "    return field\n",
        "\n",
        "  @validator('day')\n",
        "  def valid_day(cls,field):\n",
        "    if field <=0 or field > 31:\n",
        "      raise ValueError(\"日期必须在1-31日之间\")\n",
        "    return field\n",
        "\n",
        "  @validator('day', pre=True, always=True)\n",
        "  def valid_date(cls, day, values):\n",
        "      year = values.get('year')\n",
        "      month = values.get('month')\n",
        "\n",
        "      if year is None or month is None:\n",
        "        return day\n",
        "\n",
        "      if month ==2:\n",
        "        if cls.is_leap_year(year) and day > 29:\n",
        "          raise  ValueError(\">29\")\n",
        "        elif not cls.is_leap_year(year) and day > 28:\n",
        "          raise ValueError(\">28\")\n",
        "      elif month in [4,6,9,11] and day >30:\n",
        "        raise ValueError(f\"{month} 30\")\n",
        "      return day\n",
        "\n",
        "\n",
        "  @staticmethod\n",
        "  def is_leap_year(year):\n",
        "      if year % 400 == 0 or (year % 4 == 0 and year % 100 != 0):\n",
        "          return True\n",
        "      return False\n",
        "\n"
      ],
      "metadata": {
        "id": "YfZj0F0-yoPQ"
      },
      "execution_count": 7,
      "outputs": []
    },
    {
      "cell_type": "code",
      "source": [
        "selfdate={\"year\": 2023, \"month\": 4, \"day\": 3, \"era\": \"AD\"}\n",
        "selfdate_result=Date(**selfdate)\n",
        "print(selfdate)"
      ],
      "metadata": {
        "id": "FKfh5DryeAG-"
      },
      "execution_count": null,
      "outputs": []
    },
    {
      "cell_type": "code",
      "source": [
        "# 根据Pydantic对象的定义，构造一个OutputParser\n",
        "parser = PydanticOutputParser(pydantic_object=Date)\n",
        "\n",
        "template = \"\"\"提取用户输入中的日期。\n",
        "{format_instructions}\n",
        "用户输入:\n",
        "{query}\"\"\"\n",
        "\n",
        "from langchain import PromptTemplate\n",
        "\n",
        "prompt = PromptTemplate(\n",
        "    template=template,\n",
        "    input_variables=[\"query\"],\n",
        "    # 直接从OutputParser中获取输出描述，并对模板的变量预先赋值\n",
        "    partial_variables={\"format_instructions\": parser.get_format_instructions()}\n",
        ")\n",
        "\n",
        "print(\"====Format Instruction=====\")\n",
        "print(parser.get_format_instructions())\n",
        "\n",
        "\n",
        "query = \"2023年四月6日天气晴...\"\n",
        "model_input = prompt.format_prompt(query=query)\n",
        "\n",
        "print(\"====Prompt=====\")\n",
        "print(model_input)\n",
        "\n",
        "\"\"\"\n",
        "model_input type is langchain_core.prompt_values.StringPromptValue\n",
        "model_input.to_messages() type  is list\n",
        "\n",
        "\"\"\"\n",
        "\n",
        "output = llm(model_input.to_messages())\n",
        "\n",
        "print(\"====模型原始输出=====\")\n",
        "print(output)\n",
        "\n",
        "print(\"====Parse后的输出=====\")\n",
        "date = parser.parse(output.content)\n",
        "print(date)"
      ],
      "metadata": {
        "id": "QoO8W1Fby5W0"
      },
      "execution_count": null,
      "outputs": []
    }
  ]
}