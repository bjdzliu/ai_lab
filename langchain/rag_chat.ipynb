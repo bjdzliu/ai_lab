{
  "nbformat": 4,
  "nbformat_minor": 0,
  "metadata": {
    "colab": {
      "provenance": [],
      "mount_file_id": "1qQP2-wd0661kJDafLSl0pJCCHvizMl56",
      "authorship_tag": "ABX9TyM6qA64L0G6iMPvxlC73mMv",
      "include_colab_link": true
    },
    "kernelspec": {
      "name": "python3",
      "display_name": "Python 3"
    },
    "language_info": {
      "name": "python"
    }
  },
  "cells": [
    {
      "cell_type": "markdown",
      "metadata": {
        "id": "view-in-github",
        "colab_type": "text"
      },
      "source": [
        "<a href=\"https://colab.research.google.com/github/bjdzliu/ai_lab/blob/main/langchain/rag_chat.ipynb\" target=\"_parent\"><img src=\"https://colab.research.google.com/assets/colab-badge.svg\" alt=\"Open In Colab\"/></a>"
      ]
    },
    {
      "cell_type": "markdown",
      "source": [
        "Langchain+OpenAI+vector  \n",
        "Retrival Augmented Generation  \n",
        "优势：  \n",
        "增加了回答专业领域内的知识  \n",
        "知识库可以频繁更新  \n",
        "知识库内容变更可以追踪  \n",
        "数据隐私\n",
        "\n",
        "这里包含了3个例子"
      ],
      "metadata": {
        "id": "iqx8q39sL0XD"
      }
    },
    {
      "cell_type": "markdown",
      "source": [
        "firstly see a sample no-RAG"
      ],
      "metadata": {
        "id": "iAROP3wsxR5S"
      }
    },
    {
      "cell_type": "code",
      "source": [
        "!pip3 install langchain openapi chromadb   cohere tiktoken langchain_openai"
      ],
      "metadata": {
        "id": "A6wtzSAjR-Yy"
      },
      "execution_count": null,
      "outputs": []
    },
    {
      "cell_type": "code",
      "source": [
        "import os\n",
        "from langchain_openai import ChatOpenAI\n",
        "\n",
        "from google.colab import userdata\n",
        "\n",
        "apikey=userdata.get('OPENAI_API_KEY')\n",
        "\n",
        "chat = ChatOpenAI(\n",
        "    openai_api_key=apikey,\n",
        "    model='gpt-3.5-turbo'\n",
        ")"
      ],
      "metadata": {
        "id": "vvQOi9ZVXXf2"
      },
      "execution_count": 3,
      "outputs": []
    },
    {
      "cell_type": "code",
      "source": [
        "from langchain.schema import (\n",
        "    SystemMessage,\n",
        "    HumanMessage,\n",
        "    AIMessage\n",
        ")\n",
        "messages=[\n",
        "    SystemMessage(content=\"You are a helpful assistant\"),\n",
        "    HumanMessage(content=\"Knock Knock\"),\n",
        "    AIMessage(content=\"who is there\"),\n",
        "    HumanMessage(content=\"Orange\")\n",
        "]"
      ],
      "metadata": {
        "id": "sEeWUAySZSM0"
      },
      "execution_count": 4,
      "outputs": []
    },
    {
      "cell_type": "code",
      "source": [
        "res=chat.invoke(messages)"
      ],
      "metadata": {
        "id": "iCoYIN05w8Zb"
      },
      "execution_count": 5,
      "outputs": []
    },
    {
      "cell_type": "code",
      "source": [
        "res\n"
      ],
      "metadata": {
        "colab": {
          "base_uri": "https://localhost:8080/"
        },
        "id": "PdHmyYh4xCKx",
        "outputId": "a5d5be6b-c386-42ee-cb64-f8868d7a0502"
      },
      "execution_count": 6,
      "outputs": [
        {
          "output_type": "execute_result",
          "data": {
            "text/plain": [
              "AIMessage(content='Orange who?')"
            ]
          },
          "metadata": {},
          "execution_count": 6
        }
      ]
    },
    {
      "cell_type": "code",
      "source": [
        "messages.append(res)\n",
        "res=chat(messages)"
      ],
      "metadata": {
        "id": "qmQbKY4bxHZf",
        "colab": {
          "base_uri": "https://localhost:8080/"
        },
        "outputId": "d7ea5277-eed1-49b2-a261-58b5085701ad"
      },
      "execution_count": 7,
      "outputs": [
        {
          "output_type": "stream",
          "name": "stderr",
          "text": [
            "/usr/local/lib/python3.10/dist-packages/langchain_core/_api/deprecation.py:117: LangChainDeprecationWarning: The function `__call__` was deprecated in LangChain 0.1.7 and will be removed in 0.2.0. Use invoke instead.\n",
            "  warn_deprecated(\n"
          ]
        }
      ]
    },
    {
      "cell_type": "code",
      "source": [
        "res"
      ],
      "metadata": {
        "colab": {
          "base_uri": "https://localhost:8080/"
        },
        "id": "sDoSc7aAxNeS",
        "outputId": "5e363eff-f3d6-48ca-9dc1-359900b2eb7d"
      },
      "execution_count": 8,
      "outputs": [
        {
          "output_type": "execute_result",
          "data": {
            "text/plain": [
              "AIMessage(content=\"Orange you glad I'm here to assist you?\")"
            ]
          },
          "metadata": {},
          "execution_count": 8
        }
      ]
    },
    {
      "cell_type": "markdown",
      "source": [
        "let specify some knowledge\n",
        "提示工程的方式"
      ],
      "metadata": {
        "id": "nOjGL5RZyNrK"
      }
    },
    {
      "cell_type": "code",
      "source": [
        "baichuan2_information=[\n",
        "    \"百川智能在北京召开大模型发布会,正式发布Baichuan2开源大模型,昇腾AI基础软硬件平台正式支持Baichuan2大模型,并在昇思MindSpore开源社区大模型平台上线Baichuan2-7B模型开放体验。\",\n",
        "    \"Baichuan2-7B-Base和 Baichuan2-13B-Base,均基于2.6T⾼质量多语⾔数据进⾏训练,在保留了上一代开源模型良好的生成与创作能力,流畅的多轮对话能力以及部署⻔槛较低等众多特性的基础上,两个模型在数学、代码、安全、逻辑推理、语义理解等能⼒有显著提升\",\n",
        "    \"Baichuan2大模型是由百川智能开发的一系列开源可商用的大规模预训练语言模型\"\n",
        "\n",
        "]"
      ],
      "metadata": {
        "id": "CvtWIsvJyUbA"
      },
      "execution_count": 9,
      "outputs": []
    },
    {
      "cell_type": "code",
      "source": [
        "source_knowledge='\\n'.join(baichuan2_information)"
      ],
      "metadata": {
        "id": "_qE6GgsVzd59"
      },
      "execution_count": 10,
      "outputs": []
    },
    {
      "cell_type": "code",
      "source": [
        "print(source_knowledge)"
      ],
      "metadata": {
        "id": "sZ_1pmzmzmA9",
        "colab": {
          "base_uri": "https://localhost:8080/"
        },
        "outputId": "81cb03f2-3a46-445f-f03e-83149d356c41"
      },
      "execution_count": 11,
      "outputs": [
        {
          "output_type": "stream",
          "name": "stdout",
          "text": [
            "百川智能在北京召开大模型发布会,正式发布Baichuan2开源大模型,昇腾AI基础软硬件平台正式支持Baichuan2大模型,并在昇思MindSpore开源社区大模型平台上线Baichuan2-7B模型开放体验。\n",
            "Baichuan2-7B-Base和 Baichuan2-13B-Base,均基于2.6T⾼质量多语⾔数据进⾏训练,在保留了上一代开源模型良好的生成与创作能力,流畅的多轮对话能力以及部署⻔槛较低等众多特性的基础上,两个模型在数学、代码、安全、逻辑推理、语义理解等能⼒有显著提升\n",
            "Baichuan2大模型是由百川智能开发的一系列开源可商用的大规模预训练语言模型\n"
          ]
        }
      ]
    },
    {
      "cell_type": "code",
      "source": [
        "query=\"你知道baichuan2模型吗\""
      ],
      "metadata": {
        "id": "l2ZrspN0zqFu"
      },
      "execution_count": 12,
      "outputs": []
    },
    {
      "cell_type": "code",
      "source": [
        "prompt_template=f\"\"\"基于以下内容回答问题:\n",
        "内容:\n",
        "{source_knowledge}\n",
        "Query:\n",
        "{query}\n",
        "\"\"\""
      ],
      "metadata": {
        "id": "_RITcUeIzvLQ"
      },
      "execution_count": 13,
      "outputs": []
    },
    {
      "cell_type": "code",
      "source": [
        "prompt=HumanMessage(\n",
        "    content=prompt_template\n",
        ")\n",
        "messages.append(prompt)\n",
        "res=chat(messages)"
      ],
      "metadata": {
        "id": "74DgWNy00tGh"
      },
      "execution_count": 14,
      "outputs": []
    },
    {
      "cell_type": "code",
      "source": [
        "res"
      ],
      "metadata": {
        "colab": {
          "base_uri": "https://localhost:8080/"
        },
        "id": "VD0ccK6206CI",
        "outputId": "24278c78-2687-4282-e745-3a25ed45289e"
      },
      "execution_count": 15,
      "outputs": [
        {
          "output_type": "execute_result",
          "data": {
            "text/plain": [
              "AIMessage(content='是的，我知道Baichuan2模型。Baichuan2是由百川智能开发的一系列开源可商用的大规模预训练语言模型。Baichuan2-7B-Base和Baichuan2-13B-Base是其中的两个模型，它们基于2.6T高质量多语言数据进行训练。相较于上一代开源模型，Baichuan2模型在生成与创作能力、多轮对话能力、部署门槛等方面有显著提升，并在数学、代码、安全、逻辑推理、语义理解等能力上有提升。')"
            ]
          },
          "metadata": {},
          "execution_count": 15
        }
      ]
    },
    {
      "cell_type": "markdown",
      "source": [
        "第三个例子：\n",
        "知识库内容存放在一个pdf文件中\n"
      ],
      "metadata": {
        "id": "Y4PcmAGb6JcN"
      }
    },
    {
      "cell_type": "code",
      "source": [
        "!pip3 install pypdf"
      ],
      "metadata": {
        "colab": {
          "base_uri": "https://localhost:8080/"
        },
        "id": "Ro8KZpIR6IUp",
        "outputId": "504f25e3-ef94-45e8-80f5-9bb5de7f480d"
      },
      "execution_count": 16,
      "outputs": [
        {
          "output_type": "stream",
          "name": "stdout",
          "text": [
            "Collecting pypdf\n",
            "  Downloading pypdf-4.0.0-py3-none-any.whl (283 kB)\n",
            "\u001b[2K     \u001b[90m━━━━━━━━━━━━━━━━━━━━━━━━━━━━━━━━━━━━━━━━\u001b[0m \u001b[32m283.9/283.9 kB\u001b[0m \u001b[31m2.0 MB/s\u001b[0m eta \u001b[36m0:00:00\u001b[0m\n",
            "\u001b[?25hInstalling collected packages: pypdf\n",
            "Successfully installed pypdf-4.0.0\n"
          ]
        }
      ]
    },
    {
      "cell_type": "code",
      "source": [
        "from langchain.document_loaders import PyPDFLoader"
      ],
      "metadata": {
        "id": "DfcQ_Oqx6Y0r"
      },
      "execution_count": 18,
      "outputs": []
    },
    {
      "cell_type": "code",
      "source": [
        "loader=PyPDFLoader(\"https://arxiv.org/pdf/2309.10305.pdf\")"
      ],
      "metadata": {
        "id": "UBaIz9F96Y5q"
      },
      "execution_count": 19,
      "outputs": []
    },
    {
      "cell_type": "code",
      "source": [
        "pages=loader.load_and_split()"
      ],
      "metadata": {
        "id": "PIXQWyagMfEZ"
      },
      "execution_count": 20,
      "outputs": []
    },
    {
      "cell_type": "code",
      "source": [
        "print(pages[2])"
      ],
      "metadata": {
        "colab": {
          "base_uri": "https://localhost:8080/"
        },
        "id": "B0YpkH0bMfHV",
        "outputId": "d4bd08e0-22d0-45bb-ba0b-82add87104b2"
      },
      "execution_count": 21,
      "outputs": [
        {
          "output_type": "stream",
          "name": "stdout",
          "text": [
            "page_content='However, most open-source large language\\nmodels have focused primarily on English. For\\ninstance, the main data source for LLaMA\\nis Common Crawl1, which comprises 67% of\\nLLaMA’s pre-training data but is filtered to English\\ncontent only. Other open source LLMs such as\\nMPT (MosaicML, 2023) and Falcon (Penedo et al.,\\n2023) are also focused on English and have limited\\ncapabilities in other languages. This hinders the\\ndevelopment and application of LLMs in specific\\nlanguages, such as Chinese.\\nIn this technical report, we introduce Baichuan\\n2, a series of large-scale multilingual language\\nmodels. Baichuan 2 has two separate models,\\nBaichuan 2-7B with 7 billion parameters and\\nBaichuan 2-13B with 13 billion parameters. Both\\nmodels were trained on 2.6 trillion tokens, which\\nto our knowledge is the largest to date, more than\\ndouble that of Baichuan 1 (Baichuan, 2023b,a).\\nWith such a massive amount of training data,\\nBaichuan 2 achieves significant improvements over\\nBaichuan 1. On general benchmarks like MMLU\\n(Hendrycks et al., 2021a), CMMLU (Li et al.,\\n2023), and C-Eval (Huang et al., 2023), Baichuan\\n2-7B achieves nearly 30% higher performance\\ncompared to Baichuan 1-7B. Specifically, Baichuan\\n2 is optimized to improve performance on math\\nand code problems. On the GSM8K (Cobbe\\net al., 2021) and HumanEval (Chen et al., 2021)\\nevaluations, Baichuan 2 nearly doubles the results\\nof the Baichuan 1. In addition, Baichuan 2 also\\ndemonstrates strong performance on medical and\\nlegal domain tasks. On benchmarks such as\\nMedQA (Jin et al., 2021) and JEC-QA (Zhong\\net al., 2020), Baichuan 2 outperforms other open-\\nsource models, making it a suitable foundation\\nmodel for domain-specific optimization.\\nAdditionally, we also released two chat\\nmodels, Baichuan 2-7B-Chat and Baichuan 2-\\n13B-Chat, optimized to follow human instructions.\\nThese models excel at dialogue and context\\nunderstanding. We will elaborate on our\\napproaches to improve the safety of Baichuan 2.\\nBy open-sourcing these models, we hope to enable\\nthe community to further improve the safety of\\nlarge language models, facilitating more research\\non responsible LLMs development.\\nFurthermore, in spirit of research collaboration\\nand continuous improvement, we are also releasing\\nthe checkpoints of Baichuan 2 at various stages\\n1https://commoncrawl.org/of training from 200 billion tokens up to the full\\n2.6 trillion tokens. We found that even for the 7\\nbillion parameter model, performance continued to\\nimprove after training on more than 2.6 trillion\\ntokens. By sharing these intermediary results,\\nwe hope to provide the community with greater\\ninsight into the training dynamics of Baichuan 2.\\nUnderstanding these dynamics is key to unraveling\\nthe inner working mechanism of large language\\nmodels (Biderman et al., 2023a; Tirumala et al.,\\n2022). We believe the release of these checkpoints\\nwill pave the way for further advances in this\\nrapidly developing field.\\nIn this technical report, we will also share\\nsome of the trials, errors, and lessons learned\\nthrough training Baichuan 2. In the following\\nsections, we will present detailed modifications\\nmade to the vanilla Transformer architecture and\\nour training methodology. We will then describe\\nour fine-tuning methods to align the foundation\\nmodel with human preferences. Finally, we will\\nbenchmark the performance of our models against\\nother LLMs on a set of standard tests. Throughout\\nthe report, we aim to provide transparency into\\nour process, including unsuccessful experiments,\\nto advance collective knowledge in developing\\nLLMs. Baichuan 2’s foundation models and\\nchat models are available for both research and\\ncommercial use at https://github.com/\\nbaichuan-inc/Baichuan2\\n2 Pre-training\\nThis section introduces the training procedure\\nfor the Baichuan 2 foundation models. Before\\ndiving into the model details, we first show the\\noverall performance of the Baichuan 2 base models\\ncompared to other open or closed-sourced models' metadata={'source': 'https://arxiv.org/pdf/2309.10305.pdf', 'page': 1}\n"
          ]
        }
      ]
    },
    {
      "cell_type": "code",
      "source": [
        "from langchain.text_splitter import RecursiveCharacterTextSplitter\n",
        "text_splitter=RecursiveCharacterTextSplitter(\n",
        "    chunk_size=500,\n",
        "    chunk_overlap=50,\n",
        ")\n",
        "docs=text_splitter.split_documents(pages)"
      ],
      "metadata": {
        "id": "4UJ6hhDGMfKv"
      },
      "execution_count": 22,
      "outputs": []
    },
    {
      "cell_type": "code",
      "source": [
        "len(docs)"
      ],
      "metadata": {
        "colab": {
          "base_uri": "https://localhost:8080/"
        },
        "id": "LSDV-v5OMfOA",
        "outputId": "ea91ac0b-8fc9-4f22-b2fb-1b8d2dd50c5e"
      },
      "execution_count": 23,
      "outputs": [
        {
          "output_type": "execute_result",
          "data": {
            "text/plain": [
              "215"
            ]
          },
          "metadata": {},
          "execution_count": 23
        }
      ]
    },
    {
      "cell_type": "markdown",
      "source": [
        "利用embeding模型对每个文本进行向量化"
      ],
      "metadata": {
        "id": "aNwVUmarOL7G"
      }
    },
    {
      "cell_type": "code",
      "source": [
        "from langchain.embeddings.openai import OpenAIEmbeddings\n",
        "from langchain.vectorstores import Chroma\n",
        "\n",
        "embed_model=OpenAIEmbeddings(openai_api_key=apikey)\n",
        "vectorstore=Chroma.from_documents(documents=docs,embedding=embed_model,collection_name=\"openai_embed\")\n",
        "\n"
      ],
      "metadata": {
        "id": "XF8pPAcjMfRU"
      },
      "execution_count": 25,
      "outputs": []
    },
    {
      "cell_type": "code",
      "source": [
        "query=\"How large is the baichuan2 voculary\"\n",
        "result=vectorstore.similarity_search(query,k=2)"
      ],
      "metadata": {
        "id": "bKykx9pzMF1j"
      },
      "execution_count": 26,
      "outputs": []
    },
    {
      "cell_type": "code",
      "source": [
        "result"
      ],
      "metadata": {
        "colab": {
          "base_uri": "https://localhost:8080/"
        },
        "id": "BlxCw1sPMF5Q",
        "outputId": "62d1352f-863b-4155-9e9a-a1e5025f5ebb"
      },
      "execution_count": 27,
      "outputs": [
        {
          "output_type": "execute_result",
          "data": {
            "text/plain": [
              "[Document(page_content='languages, such as Chinese.\\nIn this technical report, we introduce Baichuan\\n2, a series of large-scale multilingual language\\nmodels. Baichuan 2 has two separate models,\\nBaichuan 2-7B with 7 billion parameters and\\nBaichuan 2-13B with 13 billion parameters. Both\\nmodels were trained on 2.6 trillion tokens, which\\nto our knowledge is the largest to date, more than\\ndouble that of Baichuan 1 (Baichuan, 2023b,a).\\nWith such a massive amount of training data,', metadata={'page': 1, 'source': 'https://arxiv.org/pdf/2309.10305.pdf'}),\n",
              " Document(page_content='Baichuan 2: Open Large-scale Language Models\\nAiyuan Yang, Bin Xiao, Bingning Wang, Borong Zhang, Chao Yin, Chenxu Lv, Da Pan\\nDian Wang, Dong Yan, Fan Yang, Fei Deng, Feng Wang, Feng Liu, Guangwei Ai\\nGuosheng Dong, Haizhou Zhao, Hang Xu, Haoze Sun, Hongda Zhang, Hui Liu, Jiaming Ji\\nJian Xie, Juntao Dai, Kun Fang, Lei Su, Liang Song, Lifeng Liu, Liyun Ru, Luyao Ma\\nMang Wang, Mickel Liu, MingAn Lin, Nuolan Nie, Peidong Guo, Ruiyang Sun', metadata={'page': 0, 'source': 'https://arxiv.org/pdf/2309.10305.pdf'})]"
            ]
          },
          "metadata": {},
          "execution_count": 27
        }
      ]
    },
    {
      "cell_type": "code",
      "source": [
        "def augment_promp(query:str):\n",
        "  result"
      ],
      "metadata": {
        "id": "QmIxv7pRMcBC"
      },
      "execution_count": null,
      "outputs": []
    }
  ]
}