{
  "nbformat": 4,
  "nbformat_minor": 0,
  "metadata": {
    "colab": {
      "provenance": [],
      "authorship_tag": "ABX9TyOv3HjMHWkv+Kgxhdr6im5e",
      "include_colab_link": true
    },
    "kernelspec": {
      "name": "python3",
      "display_name": "Python 3"
    },
    "language_info": {
      "name": "python"
    }
  },
  "cells": [
    {
      "cell_type": "markdown",
      "metadata": {
        "id": "view-in-github",
        "colab_type": "text"
      },
      "source": [
        "<a href=\"https://colab.research.google.com/github/bjdzliu/ai_lab/blob/main/langchain/agent_db.ipynb\" target=\"_parent\"><img src=\"https://colab.research.google.com/assets/colab-badge.svg\" alt=\"Open In Colab\"/></a>"
      ]
    },
    {
      "cell_type": "code",
      "execution_count": 9,
      "metadata": {
        "id": "QZtee_4-VJ6R"
      },
      "outputs": [],
      "source": [
        "from google.colab import userdata\n",
        "apikey=userdata.get('OPENAI_API_KEY')\n",
        "\n",
        "mysqlpw=userdata.get('mysqlpw')"
      ]
    },
    {
      "cell_type": "code",
      "source": [
        "!pip3 install openai langchain langchain_openai"
      ],
      "metadata": {
        "id": "ruMNEFClVMe0"
      },
      "execution_count": null,
      "outputs": []
    },
    {
      "cell_type": "code",
      "source": [
        "!pip3 install --quiet mysql"
      ],
      "metadata": {
        "id": "w7PK-6WRV2PB"
      },
      "execution_count": 7,
      "outputs": []
    },
    {
      "cell_type": "code",
      "source": [
        "!pip3 install --upgrade --quiet  langchain langchain-community langchain-experimental\n",
        "\n"
      ],
      "metadata": {
        "id": "R5k-8ecXVjUg"
      },
      "execution_count": null,
      "outputs": []
    },
    {
      "cell_type": "code",
      "source": [
        "from langchain.sql_database import SQLDatabase\n",
        "\n",
        "db_user = \"root\"\n",
        "db_password = mysqlpw\n",
        "db_host = \"47.92.245.59\"\n",
        "db_name = \"classicmodels\"\n",
        "db = SQLDatabase.from_uri(f\"mysql://{db_user}:{db_password}@{db_host}/{db_name}\")"
      ],
      "metadata": {
        "id": "dixkDQWXVrgp"
      },
      "execution_count": null,
      "outputs": []
    },
    {
      "cell_type": "code",
      "source": [
        "from langchain_community.agent_toolkits import create_sql_agent\n",
        "from langchain_openai import ChatOpenAI"
      ],
      "metadata": {
        "id": "2QbQ7FOcWwGG"
      },
      "execution_count": 15,
      "outputs": []
    },
    {
      "cell_type": "code",
      "source": [
        "llm = ChatOpenAI(openai_api_key=apikey,model=\"gpt-3.5-turbo\", temperature=0)\n",
        "agent_executor = create_sql_agent(llm, db=db, agent_type=\"openai-tools\", verbose=True)"
      ],
      "metadata": {
        "id": "chyX-T3KXBa7"
      },
      "execution_count": 21,
      "outputs": []
    },
    {
      "cell_type": "code",
      "source": [
        "agent_executor.invoke(\"how many customers we have\")"
      ],
      "metadata": {
        "colab": {
          "base_uri": "https://localhost:8080/"
        },
        "id": "6h0cEJ9pXJci",
        "outputId": "c9ade5a7-83c4-4ddd-e82d-29b04ff3f914"
      },
      "execution_count": 22,
      "outputs": [
        {
          "output_type": "stream",
          "name": "stdout",
          "text": [
            "\n",
            "\n",
            "\u001b[1m> Entering new AgentExecutor chain...\u001b[0m\n",
            "\u001b[32;1m\u001b[1;3m\n",
            "Invoking: `sql_db_list_tables` with `{}`\n",
            "\n",
            "\n",
            "\u001b[0m\u001b[38;5;200m\u001b[1;3mcustomers, employees, offices, orderdetails, orders, payments, productlines, products\u001b[0m\u001b[32;1m\u001b[1;3m\n",
            "Invoking: `sql_db_schema` with `{'table_names': 'customers'}`\n",
            "\n",
            "\n",
            "\u001b[0m\u001b[33;1m\u001b[1;3m\n",
            "CREATE TABLE customers (\n",
            "\t`customerNumber` INTEGER(11) NOT NULL DEFAULT '0', \n",
            "\t`customerName` VARCHAR(50) NOT NULL, \n",
            "\t`contactLastName` VARCHAR(50) NOT NULL, \n",
            "\t`contactFirstName` VARCHAR(50) NOT NULL, \n",
            "\tphone VARCHAR(50) NOT NULL, \n",
            "\t`addressLine1` VARCHAR(50) NOT NULL, \n",
            "\t`addressLine2` VARCHAR(50), \n",
            "\tcity VARCHAR(50) NOT NULL, \n",
            "\tstate VARCHAR(50), \n",
            "\t`postalCode` VARCHAR(15), \n",
            "\tcountry VARCHAR(50) NOT NULL, \n",
            "\t`salesRepEmployeeNumber` INTEGER(11), \n",
            "\t`creditLimit` DECIMAL(10, 2), \n",
            "\tPRIMARY KEY (`customerNumber`), \n",
            "\tCONSTRAINT customers_ibfk_1 FOREIGN KEY(`salesRepEmployeeNumber`) REFERENCES employees (`employeeNumber`)\n",
            ")DEFAULT CHARSET=latin1 ENGINE=InnoDB\n",
            "\n",
            "/*\n",
            "3 rows from customers table:\n",
            "customerNumber\tcustomerName\tcontactLastName\tcontactFirstName\tphone\taddressLine1\taddressLine2\tcity\tstate\tpostalCode\tcountry\tsalesRepEmployeeNumber\tcreditLimit\n",
            "103\tAtelier graphique\tSchmitt\tCarine \t40.32.2555\t54, rue Royale\tNone\tNantes\tNone\t44000\tFrance\t1370\t21000.00\n",
            "112\tSignal Gift Stores\tKing\tJean\t7025551838\t8489 Strong St.\tNone\tLas Vegas\tNV\t83030\tUSA\t1166\t71800.00\n",
            "114\tAustralian Collectors, Co.\tFerguson\tPeter\t03 9520 4555\t636 St Kilda Road\tLevel 3\tMelbourne\tVictoria\t3004\tAustralia\t1611\t117300.00\n",
            "*/\u001b[0m\u001b[32;1m\u001b[1;3m\n",
            "Invoking: `sql_db_query` with `{'query': 'SELECT COUNT(*) FROM customers'}`\n",
            "\n",
            "\n",
            "\u001b[0m\u001b[36;1m\u001b[1;3m[(122,)]\u001b[0m\u001b[32;1m\u001b[1;3mWe have a total of 122 customers.\u001b[0m\n",
            "\n",
            "\u001b[1m> Finished chain.\u001b[0m\n"
          ]
        },
        {
          "output_type": "execute_result",
          "data": {
            "text/plain": [
              "{'input': 'how many customers we have',\n",
              " 'output': 'We have a total of 122 customers.'}"
            ]
          },
          "metadata": {},
          "execution_count": 22
        }
      ]
    }
  ]
}