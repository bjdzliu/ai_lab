{
  "nbformat": 4,
  "nbformat_minor": 0,
  "metadata": {
    "colab": {
      "provenance": [],
      "authorship_tag": "ABX9TyPKHGTjeGc3sd/UuezVBFwu",
      "include_colab_link": true
    },
    "kernelspec": {
      "name": "python3",
      "display_name": "Python 3"
    },
    "language_info": {
      "name": "python"
    }
  },
  "cells": [
    {
      "cell_type": "markdown",
      "metadata": {
        "id": "view-in-github",
        "colab_type": "text"
      },
      "source": [
        "<a href=\"https://colab.research.google.com/github/bjdzliu/ai_lab/blob/main/langchain/milvus_demo.ipynb\" target=\"_parent\"><img src=\"https://colab.research.google.com/assets/colab-badge.svg\" alt=\"Open In Colab\"/></a>"
      ]
    },
    {
      "cell_type": "code",
      "source": [
        "!pip3 install pymilvus"
      ],
      "metadata": {
        "id": "_IslhA8ascNr"
      },
      "execution_count": null,
      "outputs": []
    },
    {
      "cell_type": "code",
      "source": [
        "!pip3 install grpcio==1.60.0\n"
      ],
      "metadata": {
        "id": "g_VV7OFNvPmB"
      },
      "execution_count": null,
      "outputs": []
    },
    {
      "cell_type": "code",
      "execution_count": null,
      "metadata": {
        "id": "alBkx5w8sIhH"
      },
      "outputs": [],
      "source": [
        "from pymilvus import(\n",
        "    connections,\n",
        "    db,\n",
        "    utility,\n",
        "    FieldSchema,\n",
        "    Collection,\n",
        "    DataType,\n",
        "    CollectionSchema\n",
        "\n",
        ")\n",
        "\n",
        "import os\n",
        "\n",
        "os.environ['HF_TOKEN'] = \"xxxxxx\"\n",
        "\n",
        "print(os.getenv('HF_TOKEN'))"
      ]
    },
    {
      "cell_type": "code",
      "source": [
        "connections.connect(\"default\",host='xxxxxx',port='19530')\n",
        "print(db.list_database())\n",
        "print(utility.list_collections())\n"
      ],
      "metadata": {
        "colab": {
          "base_uri": "https://localhost:8080/"
        },
        "id": "9-lbM21WvhXj",
        "outputId": "395b08cb-8aca-4217-ec7a-030c9a693cca"
      },
      "execution_count": 14,
      "outputs": [
        {
          "output_type": "stream",
          "name": "stdout",
          "text": [
            "['default']\n",
            "['demo_test']\n"
          ]
        }
      ]
    },
    {
      "cell_type": "code",
      "source": [
        "fields=[\n",
        "    FieldSchema(name=\"pk\",dtype=DataType.INT64,is_primary=True,auto_id=False),\n",
        "    FieldSchema(name=\"words\",dtype=DataType.VARCHAR,max_length=50),\n",
        "    FieldSchema(name=\"embeddings\",dtype=DataType.FLOAT_VECTOR,dim=512),\n",
        "]"
      ],
      "metadata": {
        "id": "M5veJXLEvkfN"
      },
      "execution_count": null,
      "outputs": []
    },
    {
      "cell_type": "code",
      "source": [
        "schema=CollectionSchema(fields,\"simple demo for storing and receive from Google\")"
      ],
      "metadata": {
        "id": "G3vmMvnjvxh-"
      },
      "execution_count": 12,
      "outputs": []
    },
    {
      "cell_type": "code",
      "source": [
        "from pymilvus import utility\n",
        "utility.drop_collection(\"demo_test\")"
      ],
      "metadata": {
        "id": "UV8Iu76N6ENP"
      },
      "execution_count": null,
      "outputs": []
    },
    {
      "cell_type": "code",
      "source": [
        "demo=Collection('demo_test',schema)"
      ],
      "metadata": {
        "id": "buv0teEZvzEz"
      },
      "execution_count": null,
      "outputs": []
    },
    {
      "cell_type": "code",
      "source": [
        "from transformers import AutoModel\n",
        "from numpy.linalg import norm\n",
        "model = AutoModel.from_pretrained('jinaai/jina-embeddings-v2-small-en', trust_remote_code=True)"
      ],
      "metadata": {
        "id": "37afx9wNv7dA"
      },
      "execution_count": null,
      "outputs": []
    },
    {
      "cell_type": "code",
      "source": [
        "dog=model.encode(['dog'])"
      ],
      "metadata": {
        "id": "1KmhuBlNwHci"
      },
      "execution_count": 19,
      "outputs": []
    },
    {
      "cell_type": "code",
      "source": [
        "embeddings = model.encode(['dog','puppy','queen','book','lion'])"
      ],
      "metadata": {
        "id": "9sLQFKgzBlXV"
      },
      "execution_count": 3,
      "outputs": []
    },
    {
      "cell_type": "code",
      "source": [
        "print([dog])"
      ],
      "metadata": {
        "id": "0bPb4KW6Asxk"
      },
      "execution_count": null,
      "outputs": []
    },
    {
      "cell_type": "code",
      "source": [
        "data1=[\n",
        "[1,2,3,4,5],\n",
        "['dog','puppy','queen','book','lion'],\n",
        "embeddings,\n",
        "]\n"
      ],
      "metadata": {
        "id": "wze3GdqA8s2O"
      },
      "execution_count": 4,
      "outputs": []
    },
    {
      "cell_type": "code",
      "source": [
        "insert_result=demo.insert(data1)"
      ],
      "metadata": {
        "id": "E8PbTsd70naQ"
      },
      "execution_count": 16,
      "outputs": []
    },
    {
      "cell_type": "code",
      "source": [
        "index={\n",
        "\n",
        "       \"index_type\":\"FLAT\",\n",
        "       \"metric_type\":\"L2\",\n",
        "       \"params\":{}\n",
        "}\n",
        "demo.create_index(\"embeddings\",index)"
      ],
      "metadata": {
        "colab": {
          "base_uri": "https://localhost:8080/"
        },
        "id": "44OBU1lL_qvU",
        "outputId": "4632a4a3-78e6-48b0-b4b9-2751440ecdae"
      },
      "execution_count": 17,
      "outputs": [
        {
          "output_type": "execute_result",
          "data": {
            "text/plain": [
              "Status(code=0, message=)"
            ]
          },
          "metadata": {},
          "execution_count": 17
        }
      ]
    },
    {
      "cell_type": "code",
      "source": [
        "demo.load()"
      ],
      "metadata": {
        "id": "11rnyQo2_xek"
      },
      "execution_count": 18,
      "outputs": []
    },
    {
      "cell_type": "code",
      "source": [
        "query_data=dog\n",
        "search_parames={\n",
        "        \"metric_type\":\"L2\",\n",
        "    \"params\":{}\n",
        "}\n",
        "result=demo.search(query_data,\"embeddings\",search_parames,limit=5,output_fields=['words'])"
      ],
      "metadata": {
        "id": "7RZb4Q-bIb1j"
      },
      "execution_count": 25,
      "outputs": []
    },
    {
      "cell_type": "code",
      "source": [
        "result[0].ids"
      ],
      "metadata": {
        "colab": {
          "base_uri": "https://localhost:8080/"
        },
        "id": "eUUhfWVjJdXZ",
        "outputId": "83b98035-9bc4-476d-f407-f38858906fe7"
      },
      "execution_count": 26,
      "outputs": [
        {
          "output_type": "execute_result",
          "data": {
            "text/plain": [
              "[1, 2, 5, 4, 3]"
            ]
          },
          "metadata": {},
          "execution_count": 26
        }
      ]
    },
    {
      "cell_type": "code",
      "source": [
        "result[0].distances"
      ],
      "metadata": {
        "id": "uW4oE6kTJoy_"
      },
      "execution_count": null,
      "outputs": []
    },
    {
      "cell_type": "code",
      "source": [
        "for i in range(0,5):\n",
        "  hit=result[0][i]\n",
        "  print(hit.entity.get('words'))"
      ],
      "metadata": {
        "colab": {
          "base_uri": "https://localhost:8080/"
        },
        "id": "iMmqeVV-JtIU",
        "outputId": "760f36d2-e9f4-4330-dea5-56e3368bc8a0"
      },
      "execution_count": 29,
      "outputs": [
        {
          "output_type": "stream",
          "name": "stdout",
          "text": [
            "dog\n",
            "puppy\n",
            "lion\n",
            "book\n",
            "queen\n"
          ]
        }
      ]
    },
    {
      "cell_type": "markdown",
      "source": [
        "按照pk编号来搜索"
      ],
      "metadata": {
        "id": "Dn9TFemtQNQi"
      }
    },
    {
      "cell_type": "code",
      "source": [
        "result2=demo.query(expr=\"pk>2\",offset=0,limit=2,output_fields=[\"pk\",\"words\",\"embeddings\"])"
      ],
      "metadata": {
        "id": "Swf54e8tKADS"
      },
      "execution_count": 35,
      "outputs": []
    },
    {
      "cell_type": "code",
      "source": [
        "for i in range(2):\n",
        "  hit = result2[i]\n",
        "  print(hit.get('pk'))\n",
        "  print(hit.get('words'))"
      ],
      "metadata": {
        "colab": {
          "base_uri": "https://localhost:8080/"
        },
        "id": "rXlq05nZQKbm",
        "outputId": "aa2ba99c-e556-41f3-8fb3-0c74538c8658"
      },
      "execution_count": 37,
      "outputs": [
        {
          "output_type": "stream",
          "name": "stdout",
          "text": [
            "3\n",
            "queen\n",
            "4\n",
            "book\n"
          ]
        }
      ]
    },
    {
      "cell_type": "code",
      "source": [],
      "metadata": {
        "id": "lDV-gpjcQdM3"
      },
      "execution_count": null,
      "outputs": []
    }
  ]
}