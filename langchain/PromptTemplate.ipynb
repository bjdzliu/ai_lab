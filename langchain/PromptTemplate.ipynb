{
  "nbformat": 4,
  "nbformat_minor": 0,
  "metadata": {
    "colab": {
      "provenance": [],
      "authorship_tag": "ABX9TyOLXI9i2yZSqerY8pVCuOHr",
      "include_colab_link": true
    },
    "kernelspec": {
      "name": "python3",
      "display_name": "Python 3"
    },
    "language_info": {
      "name": "python"
    }
  },
  "cells": [
    {
      "cell_type": "markdown",
      "metadata": {
        "id": "view-in-github",
        "colab_type": "text"
      },
      "source": [
        "<a href=\"https://colab.research.google.com/github/bjdzliu/ai_lab/blob/main/langchain/PromptTemplate.ipynb\" target=\"_parent\"><img src=\"https://colab.research.google.com/assets/colab-badge.svg\" alt=\"Open In Colab\"/></a>"
      ]
    },
    {
      "cell_type": "code",
      "source": [
        "!pip3 --quiet install langchain openai"
      ],
      "metadata": {
        "id": "1gv6beaVAqsj"
      },
      "execution_count": null,
      "outputs": []
    },
    {
      "cell_type": "code",
      "source": [
        "from google.colab import userdata\n",
        "apikey=userdata.get('OPENAI_API_KEY')\n",
        "from langchain.llms import OpenAI\n",
        "from langchain import PromptTemplate\n",
        "from langchain import LLMChain"
      ],
      "metadata": {
        "id": "sUIrBxhnASKj"
      },
      "execution_count": 4,
      "outputs": []
    },
    {
      "cell_type": "code",
      "source": [
        "llm = OpenAI(temperature=0.9,openai_api_key=apikey)  # default model_name=\"gpt-3.5-turbo-instruct\"\n",
        "#check the llm object parameters\n",
        "#print(llm)"
      ],
      "metadata": {
        "id": "D23iuJlxe9Ab"
      },
      "execution_count": null,
      "outputs": []
    },
    {
      "cell_type": "markdown",
      "source": [
        "## Simple without PromptTemplate\n",
        "\n"
      ],
      "metadata": {
        "id": "YJ4Ia2q6fYTD"
      }
    },
    {
      "cell_type": "code",
      "source": [
        "text = \"What would be a good company name for a company that makes colorful socks?\"\n",
        "print(llm.invoke(text))"
      ],
      "metadata": {
        "id": "FKGtpjWpAdJ6"
      },
      "execution_count": null,
      "outputs": []
    },
    {
      "cell_type": "markdown",
      "source": [
        "## Parameters with *PromptTemplate*"
      ],
      "metadata": {
        "id": "6IwaxZ5ktL-L"
      }
    },
    {
      "cell_type": "code",
      "source": [
        "template = \"\"\"\n",
        "I want you to act as a naming consultant for new companies.\n",
        "What is a good name for a company that makes {product} ?\n",
        "Where can customer buy these in {country_name}?\n",
        "\"\"\"\n",
        "prompt_single = PromptTemplate(\n",
        "    input_variables=[\"product\",\"country_name\"],\n",
        "    template=template,\n",
        ")\n",
        "\n",
        "prompt_str=prompt_single.format(product=\"colorful socks\",country_name=\"china\")"
      ],
      "metadata": {
        "id": "zlPvYRrOdvg2"
      },
      "execution_count": 41,
      "outputs": []
    },
    {
      "cell_type": "code",
      "source": [
        "llm.invoke(prompt_str)"
      ],
      "metadata": {
        "id": "E__rCoMYtcbR"
      },
      "execution_count": null,
      "outputs": []
    },
    {
      "cell_type": "markdown",
      "source": [
        "## multiple parameters with chain\n",
        "\n"
      ],
      "metadata": {
        "id": "tdWchH4rfepu"
      }
    },
    {
      "cell_type": "code",
      "source": [
        "\n",
        "prompt_template = \"Tell me a {parameter_1} and {parameter_2} joke\"\n",
        "\n",
        "#Init a prompt object\n",
        "prompt = PromptTemplate(\n",
        "    input_variables=[\"parameter_1\",\"parameter_2\"], template=prompt_template\n",
        ")"
      ],
      "metadata": {
        "id": "Q0rrm2ahF7Q4"
      },
      "execution_count": 43,
      "outputs": []
    },
    {
      "cell_type": "code",
      "source": [
        "llm_chain = LLMChain(prompt=prompt, llm=llm)"
      ],
      "metadata": {
        "id": "peYlWsgzGCfi"
      },
      "execution_count": 44,
      "outputs": []
    },
    {
      "cell_type": "code",
      "source": [
        "llm_chain.invoke({\"parameter_1\":\"chinese\",\"parameter_2\":\"fashion\"})"
      ],
      "metadata": {
        "colab": {
          "base_uri": "https://localhost:8080/"
        },
        "id": "7DKh5B6f6jpq",
        "outputId": "84f03053-24df-4483-e7f9-b9a624a9720f"
      },
      "execution_count": 45,
      "outputs": [
        {
          "output_type": "execute_result",
          "data": {
            "text/plain": [
              "{'parameter_1': 'chinese',\n",
              " 'parameter_2': 'fashion',\n",
              " 'text': '\\n\\nWhy did the fashion designer refuse to make a dress out of chopsticks?\\n\\nBecause it was too chop-stick-y!'}"
            ]
          },
          "metadata": {},
          "execution_count": 45
        }
      ]
    }
  ]
}